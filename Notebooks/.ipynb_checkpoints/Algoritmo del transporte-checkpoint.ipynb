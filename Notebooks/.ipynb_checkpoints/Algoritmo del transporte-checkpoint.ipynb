{
 "cells": [
  {
   "cell_type": "code",
   "execution_count": 17,
   "metadata": {},
   "outputs": [],
   "source": [
    "# Para un PPL (Problema de Programación Lineal) dado, una solución mediante las técnicas vistas en la asignatura sería:"
   ]
  },
  {
   "cell_type": "code",
   "execution_count": 18,
   "metadata": {},
   "outputs": [],
   "source": [
    "# Definimos un PPL de minimización:\n",
    "PROBLEMA = MixedIntegerLinearProgram(maximization=False)\n",
    "\n",
    "# Definimos una serie de variables de decisión: lo hacemos cómo una matriz:\n",
    "a11, a12, a13, a14 = PROBLEMA['Almacen1-Cliente1'], PROBLEMA['Almacen1-Cliente2'], PROBLEMA['Almacen1-Cliente3'], PROBLEMA['Almacen1-Cliente4']\n",
    "a21, a22, a23, a24 = PROBLEMA['Almacen2-Cliente1'], PROBLEMA['Almacen2-Cliente2'], PROBLEMA['Almacen2-Cliente3'], PROBLEMA['Almacen2-Cliente4']\n",
    "a31, a32, a33, a34 = PROBLEMA['Almacen3-Cliente1'], PROBLEMA['Almacen3-Cliente2'], PROBLEMA['Almacen3-Cliente3'], PROBLEMA['Almacen3-Cliente4']\n",
    "a41, a42, a43, a44 = PROBLEMA['Almacen4-Cliente1'], PROBLEMA['Almacen4-Cliente2'], PROBLEMA['Almacen4-Cliente3'], PROBLEMA['Almacen4-Cliente4']\n"
   ]
  },
  {
   "cell_type": "code",
   "execution_count": 19,
   "metadata": {},
   "outputs": [],
   "source": [
    "# Definimos una función objetivo a partir de los valores de la tabla del problema:\n",
    "PROBLEMA.set_objective(2*a11 + 3*a12 + 4*a13 + 5*a14 +\n",
    "                       3*a21 + 4*a22 + 5*a23 + 6*a24 +\n",
    "                       3*a31 + 4*a32 + 5*a33 + 6*a34 +\n",
    "                       4*a41 + 5*a42 + 6*a43 + 7*a44\n",
    "                      )\n"
   ]
  },
  {
   "cell_type": "code",
   "execution_count": 20,
   "metadata": {},
   "outputs": [],
   "source": [
    "# Definimos las restricciones de nuestro problema:\n",
    "\n",
    "'''\n",
    "Restricciones de oferta: proveedores\n",
    "'''\n",
    "PROBLEMA.add_constraint(a11 + a12 + a13 + a14 <= 20)\n",
    "PROBLEMA.add_constraint(a21 + a22 + a23 + a24 <= 20)\n",
    "PROBLEMA.add_constraint(a31 + a32 + a33 + a34 <= 30)\n",
    "PROBLEMA.add_constraint(a31 + a32 + a33 + a34 <= 30)\n",
    "\n",
    "'''\n",
    "Restricciones de demanda: clientes\n",
    "'''\n",
    "PROBLEMA.add_constraint(a11 + a21 + a31 + a41 >= 15)\n",
    "PROBLEMA.add_constraint(a12 + a22 + a32 + a42 >= 35)\n",
    "PROBLEMA.add_constraint(a13 + a23 + a33 + a43 >= 15)\n",
    "PROBLEMA.add_constraint(a14 + a24 + a34 + a44 >= 10)\n"
   ]
  },
  {
   "cell_type": "code",
   "execution_count": 21,
   "metadata": {},
   "outputs": [],
   "source": [
    "# Obligar a la no negatividad del problema:\n",
    "PROBLEMA.add_constraint(a11 >= 0)\n",
    "PROBLEMA.add_constraint(a12 >= 0)\n",
    "PROBLEMA.add_constraint(a13 >= 0)\n",
    "PROBLEMA.add_constraint(a14 >= 0)\n",
    "\n",
    "PROBLEMA.add_constraint(a21 >= 0)\n",
    "PROBLEMA.add_constraint(a22 >= 0)\n",
    "PROBLEMA.add_constraint(a23 >= 0)\n",
    "PROBLEMA.add_constraint(a24 >= 0)\n",
    "\n",
    "PROBLEMA.add_constraint(a31 >= 0)\n",
    "PROBLEMA.add_constraint(a32 >= 0)\n",
    "PROBLEMA.add_constraint(a33 >= 0)\n",
    "PROBLEMA.add_constraint(a34 >= 0)\n",
    "\n",
    "PROBLEMA.add_constraint(a41 >= 0)\n",
    "PROBLEMA.add_constraint(a42 >= 0)\n",
    "PROBLEMA.add_constraint(a43 >= 0)\n",
    "PROBLEMA.add_constraint(a44 >= 0)\n"
   ]
  },
  {
   "cell_type": "code",
   "execution_count": 22,
   "metadata": {},
   "outputs": [
    {
     "name": "stdout",
     "output_type": "stream",
     "text": [
      "El valor objetivo del PPL resuelto es:  305.0\n"
     ]
    }
   ],
   "source": [
    "# Obtener la solución factible del PPL: esto es, el valor objetivo:\n",
    "print(\"El valor objetivo del PPL resuelto es: \", PROBLEMA.solve())\n"
   ]
  },
  {
   "cell_type": "code",
   "execution_count": 23,
   "metadata": {},
   "outputs": [
    {
     "data": {
      "text/plain": [
       "'\\nDescomentar para ver toda la sucesión de cálculos efectuados por SAGE:\\n'"
      ]
     },
     "execution_count": 23,
     "metadata": {},
     "output_type": "execute_result"
    }
   ],
   "source": [
    "'''\n",
    "Descomentar para ver toda la sucesión de cálculos efectuados por SAGE:\n",
    "'''\n",
    "# PROBLEMA.show()\n"
   ]
  },
  {
   "cell_type": "code",
   "execution_count": 24,
   "metadata": {},
   "outputs": [
    {
     "name": "stdout",
     "output_type": "stream",
     "text": [
      "Coste de Almacén 1 a Cliente 1 es  15.0\n",
      "Coste de Almacén 1 a Cliente 2 es  5.0\n",
      "Coste de Almacén 1 a Cliente 3 es  -0.0\n",
      "Coste de Almacén 1 a Cliente 4 es  -0.0\n",
      "Coste de Almacén 2 a Cliente 1 es  -0.0\n",
      "Coste de Almacén 2 a Cliente 2 es  20.0\n",
      "Coste de Almacén 2 a Cliente 3 es  -0.0\n",
      "Coste de Almacén 2 a Cliente 4 es  -0.0\n",
      "Coste de Almacén 3 a Cliente 1 es  -0.0\n",
      "Coste de Almacén 3 a Cliente 2 es  10.0\n",
      "Coste de Almacén 3 a Cliente 3 es  15.0\n",
      "Coste de Almacén 3 a Cliente 4 es  5.0\n",
      "Coste de Almacén 4 a Cliente 1 es  -0.0\n",
      "Coste de Almacén 4 a Cliente 2 es  -0.0\n",
      "Coste de Almacén 4 a Cliente 3 es  -0.0\n",
      "Coste de Almacén 4 a Cliente 4 es  5.0\n"
     ]
    }
   ],
   "source": [
    "# El valor coincide con los cálculos efectuados a mano; tras lo cual, obtenemos los valores de las variables de decisión:\n",
    "print(\"Coste de Almacén 1 a Cliente 1 es \", PROBLEMA.get_values(a11))\n",
    "print(\"Coste de Almacén 1 a Cliente 2 es \", PROBLEMA.get_values(a12))\n",
    "print(\"Coste de Almacén 1 a Cliente 3 es \", PROBLEMA.get_values(a13))\n",
    "print(\"Coste de Almacén 1 a Cliente 4 es \", PROBLEMA.get_values(a14))\n",
    "\n",
    "print(\"Coste de Almacén 2 a Cliente 1 es \", PROBLEMA.get_values(a21))\n",
    "print(\"Coste de Almacén 2 a Cliente 2 es \", PROBLEMA.get_values(a22))\n",
    "print(\"Coste de Almacén 2 a Cliente 3 es \", PROBLEMA.get_values(a23))\n",
    "print(\"Coste de Almacén 2 a Cliente 4 es \", PROBLEMA.get_values(a24))\n",
    "\n",
    "print(\"Coste de Almacén 3 a Cliente 1 es \", PROBLEMA.get_values(a31))\n",
    "print(\"Coste de Almacén 3 a Cliente 2 es \", PROBLEMA.get_values(a32))\n",
    "print(\"Coste de Almacén 3 a Cliente 3 es \", PROBLEMA.get_values(a33))\n",
    "print(\"Coste de Almacén 3 a Cliente 4 es \", PROBLEMA.get_values(a34))\n",
    "\n",
    "print(\"Coste de Almacén 4 a Cliente 1 es \", PROBLEMA.get_values(a41))\n",
    "print(\"Coste de Almacén 4 a Cliente 2 es \", PROBLEMA.get_values(a42))\n",
    "print(\"Coste de Almacén 4 a Cliente 3 es \", PROBLEMA.get_values(a43))\n",
    "print(\"Coste de Almacén 4 a Cliente 4 es \", PROBLEMA.get_values(a44))\n"
   ]
  },
  {
   "cell_type": "code",
   "execution_count": null,
   "metadata": {},
   "outputs": [],
   "source": [
    "# FIN"
   ]
  }
 ],
 "metadata": {
  "kernelspec": {
   "display_name": "SageMath 9.2",
   "language": "sage",
   "name": "sagemath"
  },
  "language_info": {
   "codemirror_mode": {
    "name": "ipython",
    "version": 3
   },
   "file_extension": ".py",
   "mimetype": "text/x-python",
   "name": "python",
   "nbconvert_exporter": "python",
   "pygments_lexer": "ipython3",
   "version": "3.7.7"
  }
 },
 "nbformat": 4,
 "nbformat_minor": 4
}
